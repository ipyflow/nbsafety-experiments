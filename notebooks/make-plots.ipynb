{
 "cells": [
  {
   "cell_type": "code",
   "execution_count": null,
   "metadata": {},
   "outputs": [],
   "source": [
    "cd .."
   ]
  },
  {
   "cell_type": "code",
   "execution_count": null,
   "metadata": {},
   "outputs": [],
   "source": [
    "import numpy as np\n",
    "import scipy.stats as stats\n",
    "import matplotlib\n",
    "import matplotlib.pyplot as plt\n",
    "from collections import defaultdict, Counter\n",
    "import seaborn as sns\n",
    "import os\n",
    "import glob\n",
    "import sys\n",
    "import sqlite3\n",
    "import matplotlib as mpl\n",
    "\n",
    "plt.rcParams.update({\n",
    "    \"font.family\": \"serif\",  # use serif/main font for text elements\n",
    "    \"text.usetex\": True,     # use inline math for ticks\n",
    "    \"pgf.rcfonts\": False,    # don't setup fonts from rc parameters\n",
    "    \"font.size\": 12,\n",
    "    \"axes.labelsize\": \"large\",\n",
    "    \"pgf.texsystem\": \"pdflatex\",\n",
    "    \"pgf.preamble\": [\n",
    "        r'\\usepackage[T1]{fontenc}',\n",
    "        r'\\usepackage[utf8]{inputenc}',\n",
    "        r'\\usepackage{amsmath}',\n",
    "        r'\\usepackage{newtxtext}',\n",
    "        r'\\usepackage{newtxmath}',\n",
    "#         r'\\usepackage[lite,subscriptcorrection,slantedGreek,nofontinfo,amsbb,eucal]{mtpro2}'\n",
    "    ]\n",
    "})\n",
    "sns.set_style('ticks')"
   ]
  },
  {
   "cell_type": "code",
   "execution_count": null,
   "metadata": {},
   "outputs": [],
   "source": [
    "plt.figure(figsize=(1,1))\n",
    "plt.plot(np.arange(10))"
   ]
  },
  {
   "cell_type": "code",
   "execution_count": null,
   "metadata": {},
   "outputs": [],
   "source": [
    "mpl.use('pgf')"
   ]
  },
  {
   "cell_type": "code",
   "execution_count": null,
   "metadata": {},
   "outputs": [],
   "source": [
    "version = 3"
   ]
  },
  {
   "cell_type": "code",
   "execution_count": null,
   "metadata": {},
   "outputs": [],
   "source": [
    "conn = sqlite3.connect('./data/traces.sqlite', timeout=30, isolation_level=None)\n",
    "conn.execute(\"PRAGMA read_uncommitted = true;\")"
   ]
  },
  {
   "cell_type": "code",
   "execution_count": null,
   "metadata": {},
   "outputs": [],
   "source": [
    "list(conn.execute('select count() from replay_stats where version=3'))"
   ]
  },
  {
   "cell_type": "code",
   "execution_count": null,
   "metadata": {},
   "outputs": [],
   "source": [
    "num_cells_created = np.array(list(map(lambda t: t[0], conn.execute(f'select num_cells_created from replay_stats where version={version}').fetchall())))\n",
    "plt.hist(num_cells_created[num_cells_created<200.], bins=8)"
   ]
  },
  {
   "cell_type": "code",
   "execution_count": null,
   "metadata": {},
   "outputs": [],
   "source": [
    "num_cell_execs = np.array(list(map(lambda t: t[0], conn.execute(f'select num_cell_execs from replay_stats where version={version}'))))\n",
    "plt.hist(num_cell_execs)"
   ]
  },
  {
   "cell_type": "code",
   "execution_count": null,
   "metadata": {},
   "outputs": [],
   "source": [
    "num_successful_cell_execs = np.array(list(map(lambda t: t[0], conn.execute(f'select num_successful_cell_execs from replay_stats where version={version}').fetchall())))\n",
    "plt.hist(num_successful_cell_execs)"
   ]
  },
  {
   "cell_type": "code",
   "execution_count": null,
   "metadata": {},
   "outputs": [],
   "source": [
    "def make_linechart_components(name, mark='-', agg=np.mean, prefix='', exception_threshold=1.0, npoints=30):\n",
    "    line = []\n",
    "    err = []\n",
    "    exception_fraction = 'num_exceptions * 1.0 / num_cell_execs'\n",
    "    for i in range(npoints):\n",
    "        measurements = np.array(list(map(lambda t: t[0], conn.execute(f\"\"\"\n",
    "        select {prefix}predictive_power_{name}\n",
    "        from replay_stats \n",
    "            where version={version} \n",
    "            and {prefix}predictive_power_{name} is not null \n",
    "            and num_safety_errors >= {i}\n",
    "            and {exception_fraction} <= {exception_threshold}\n",
    "        \"\"\").fetchall())))\n",
    "        line.append(agg(measurements))\n",
    "        err.append(stats.sem(measurements))\n",
    "    xs = np.arange(len(line))\n",
    "    line = np.array(line)\n",
    "    err = np.array(err)\n",
    "    plt.plot(xs, line, mark)\n",
    "    plt.fill_between(xs, line-err, line+err, alpha=.3)"
   ]
  },
  {
   "cell_type": "code",
   "execution_count": null,
   "metadata": {},
   "outputs": [],
   "source": [
    "# make_linechart_components('next_cell')\n",
    "make_linechart_components('new_or_refresher_cells', prefix='macro_')\n",
    "make_linechart_components('refresher_cells', prefix='macro_')\n",
    "# make_linechart_components('live_cells')\n",
    "make_linechart_components('new_live_cells', prefix='macro_')\n",
    "# make_linechart_components('stale_cells')"
   ]
  },
  {
   "cell_type": "code",
   "execution_count": null,
   "metadata": {},
   "outputs": [],
   "source": [
    "def make_compare_next_refresher_plot(savename=None, **kwargs):\n",
    "    make_linechart_components('next_cell', mark='-', **kwargs)\n",
    "    make_linechart_components('refresher_cells', mark='--', **kwargs)\n",
    "    plt.grid(linestyle=':')\n",
    "    plt.legend((r'\\textrm{Next cell}', r'\\textrm{Refresher cells}'), loc='upper left')\n",
    "    plt.xlabel(r'\\textrm{Min number safety errors in session}')\n",
    "    plt.ylabel(r'\\textrm{Predictive power}')\n",
    "    plt.tight_layout()\n",
    "    if savename is not None:\n",
    "        plt.savefig(savename)"
   ]
  },
  {
   "cell_type": "code",
   "execution_count": null,
   "metadata": {},
   "outputs": [],
   "source": [
    "make_compare_next_refresher_plot(exception_threshold=.5) #, savename='pp-by-num-safety-issues.pgf')"
   ]
  },
  {
   "cell_type": "code",
   "execution_count": null,
   "metadata": {},
   "outputs": [],
   "source": [
    "def compute_highlight_measurement(name, prefix='', agg=np.mean, exception_threshold=1.0):\n",
    "    exception_fraction = 'num_exceptions * 1.0 / num_cell_execs'\n",
    "    count_col = '1.0' if name == 'next_cell' else f'avg_num_{name}'\n",
    "    measurements, counts = map(np.array, zip(*conn.execute(f\"\"\"\n",
    "        select {prefix}predictive_power_{name}, {count_col}\n",
    "        from replay_stats \n",
    "            where version={version} \n",
    "            and {prefix}predictive_power_{name} is not null \n",
    "            and {exception_fraction} <= {exception_threshold}\n",
    "        \"\"\").fetchall()))\n",
    "    if agg is not None:\n",
    "        if isinstance(agg, (list, tuple)):\n",
    "            assert len(agg) == 2\n",
    "            measurements = agg[0](measurements)\n",
    "            counts = agg[1](counts)\n",
    "        else:\n",
    "            measurements, counts = map(agg, [measurements, counts])\n",
    "    return measurements, counts"
   ]
  },
  {
   "cell_type": "code",
   "execution_count": null,
   "metadata": {},
   "outputs": [],
   "source": [
    "compute_highlight_measurement('new_live_cells', agg=np.mean)"
   ]
  },
  {
   "cell_type": "code",
   "execution_count": null,
   "metadata": {},
   "outputs": [],
   "source": [
    "compute_highlight_measurement('live_cells', agg=np.mean)"
   ]
  },
  {
   "cell_type": "code",
   "execution_count": null,
   "metadata": {},
   "outputs": [],
   "source": [
    "compute_highlight_measurement('refresher_cells', agg=np.mean)"
   ]
  },
  {
   "cell_type": "code",
   "execution_count": null,
   "metadata": {},
   "outputs": [],
   "source": [
    "compute_highlight_measurement('new_or_refresher_cells', agg=np.mean)"
   ]
  },
  {
   "cell_type": "code",
   "execution_count": null,
   "metadata": {},
   "outputs": [],
   "source": [
    "compute_highlight_measurement('stale_cells', agg=np.mean)"
   ]
  },
  {
   "cell_type": "code",
   "execution_count": null,
   "metadata": {},
   "outputs": [],
   "source": [
    "compute_highlight_measurement('next_cell', agg=np.mean)"
   ]
  },
  {
   "cell_type": "code",
   "execution_count": null,
   "metadata": {},
   "outputs": [],
   "source": [
    "hl_set_to_latex = {\n",
    "    'next_cell': r'$\\mathcal{H}_\\text{next}$',\n",
    "    'live_cells': r'$\\mathcal{H}_\\text{fresh}$',\n",
    "    'stale_cells': r'$\\mathcal{H}_\\text{stale}$',\n",
    "    'refresher_cells': r'$\\mathcal{H}_\\text{refresher}$',\n",
    "    'new_live_cells': r\"$\\mathcal{H}'_\\text{fresh}$\",\n",
    "}\n",
    "agg_to_fun = {\n",
    "    'avg': np.mean,\n",
    "    'median': np.median\n",
    "}\n",
    "def make_table(highlight_sets=None, agg='avg'):\n",
    "    if highlight_sets is None:\n",
    "        highlight_sets = ['next_cell', 'live_cells', 'stale_cells', 'refresher_cells', 'new_live_cells']\n",
    "        \n",
    "    agg_fun = agg_to_fun[agg]\n",
    "    pps = []\n",
    "    counts = []\n",
    "    for hls in highlight_sets:\n",
    "        pp, cnt = compute_highlight_measurement(hls)\n",
    "        pps.append(pp)\n",
    "        counts.append(cnt)\n",
    "    \n",
    "    table_begin = r'\\begin{tabular}{|C{2.2cm}|' + '|'.join('c' for hls in highlight_sets) + '|}'\n",
    "    table_header = r'\\hline\\rowcolor[HTML]{C0C0C0}{\\bf Quantity} & ' + ' & '.join(hl_set_to_latex[hls] for hls in highlight_sets) + r'\\\\\\hline'\n",
    "    agg_pp_line = r'avg $\\mathcal{P}(\\mathcal{H}_*)$ &' + ' & '.join('$' + ('%.3f' % pp) + '$' for pp in pps) + r'\\\\\\hline'\n",
    "    agg_count_line = 'avg $|\\mathcal{H}_*|$ &' + ' & '.join(' $' + ('%.3f' % cnt) + '$' for cnt in counts) + r'\\\\\\hline'\n",
    "    table_end = r'\\end{tabular}'\n",
    "    return '\\n'.join([\n",
    "        table_begin,\n",
    "        table_header,\n",
    "        agg_pp_line,\n",
    "        agg_count_line,\n",
    "        table_end,\n",
    "    ])"
   ]
  },
  {
   "cell_type": "code",
   "execution_count": null,
   "metadata": {},
   "outputs": [],
   "source": [
    "print(make_table())"
   ]
  }
 ],
 "metadata": {
  "kernelspec": {
   "display_name": "Python 3 (nbsafety)",
   "language": "python",
   "name": "nbsafety"
  },
  "language_info": {
   "codemirror_mode": {
    "name": "ipython",
    "version": 3
   },
   "file_extension": ".py",
   "mimetype": "text/x-python",
   "name": "python",
   "nbconvert_exporter": "python",
   "pygments_lexer": "ipython3",
   "version": "3.7.8"
  }
 },
 "nbformat": 4,
 "nbformat_minor": 4
}
